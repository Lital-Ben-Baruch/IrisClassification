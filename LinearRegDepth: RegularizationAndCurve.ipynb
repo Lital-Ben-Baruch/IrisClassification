{
  "nbformat": 4,
  "nbformat_minor": 0,
  "metadata": {
    "colab": {
      "provenance": [],
      "authorship_tag": "ABX9TyNpUxciYQTXXcTlwhktExEg",
      "include_colab_link": true
    },
    "kernelspec": {
      "name": "python3",
      "display_name": "Python 3"
    },
    "language_info": {
      "name": "python"
    }
  },
  "cells": [
    {
      "cell_type": "markdown",
      "metadata": {
        "id": "view-in-github",
        "colab_type": "text"
      },
      "source": [
        "<a href=\"https://colab.research.google.com/github/Lital-Ben-Baruch/IrisClassification/blob/main/LinearRegDepth%3A%20RegularizationAndCurve.ipynb\" target=\"_parent\"><img src=\"https://colab.research.google.com/assets/colab-badge.svg\" alt=\"Open In Colab\"/></a>"
      ]
    },
    {
      "cell_type": "markdown",
      "source": [
        "# Linear regression regularization and learning curve.ipynb"
      ],
      "metadata": {
        "id": "YJsg6uPZfEe-"
      }
    },
    {
      "cell_type": "markdown",
      "source": [
        "### Step 1. Import the necessary libraries"
      ],
      "metadata": {
        "id": "rLhqhFwYfN51"
      }
    },
    {
      "cell_type": "code",
      "execution_count": null,
      "metadata": {
        "id": "YQYJGa51esNT"
      },
      "outputs": [],
      "source": [
        "import pandas as pd\n",
        "from google.colab import drive"
      ]
    },
    {
      "cell_type": "markdown",
      "source": [
        "### Step 2. Import the dataset from drive"
      ],
      "metadata": {
        "id": "yZucdrBxgOis"
      }
    },
    {
      "cell_type": "markdown",
      "source": [
        "We will read the data files from the drive, which are in the format of x and y. There are a total of three distinct data files: train, CV, and test. These files contain information about the water flowing out of a dam (y) as a function of the water level changes in the reservoir (x)."
      ],
      "metadata": {
        "id": "0d8tfO_VgYfY"
      }
    },
    {
      "cell_type": "code",
      "source": [
        "drive.mount('/content/drive')"
      ],
      "metadata": {
        "colab": {
          "base_uri": "https://localhost:8080/"
        },
        "id": "Vup3IkwHgRZx",
        "outputId": "ef7f8c72-9968-4210-be94-5d672b73f6d9"
      },
      "execution_count": null,
      "outputs": [
        {
          "output_type": "stream",
          "name": "stdout",
          "text": [
            "Mounted at /content/drive\n"
          ]
        }
      ]
    },
    {
      "cell_type": "code",
      "source": [
        "dir = \"/content/drive/My Drive/Summaries _ML_AI_CV/data_sets/Linear__regression_regularization_and_learning_curve/\"\n",
        "file_path_train = dir + \"train_data_x_y.txt\"\n",
        "file_path_test = dir + \"test_data_x_y.txt\"\n",
        "file_path_val = dir + \"cv_data_x_y.txt\""
      ],
      "metadata": {
        "id": "HS1YeprbkOLm"
      },
      "execution_count": null,
      "outputs": []
    },
    {
      "cell_type": "code",
      "source": [
        "# dir = \"/content/drive/My Drive/Summaries _ML_AI_CV/data_sets/Linear__regression_regularization_and_learning_curve/\"\n",
        "# file_path_train = \"/content/drive/My Drive/Summaries _ML_AI_CV/data_sets/Linear__regression_regularization_and_learning_curve/train_data_x_y.txt\"\n",
        "# file_path_test = \"/content/drive/My Drive/Summaries _ML_AI_CV/data_sets/Linear__regression_regularization_and_learning_curve/test_data_x_y.txt\"\n",
        "# file_path_val = \"/content/drive/My Drive/Summaries _ML_AI_CV/data_sets/Linear__regression_regularization_and_learning_curve/cv_data_x_y.txt\"\n",
        "df = pd.read_csv(file_path_train)"
      ],
      "metadata": {
        "id": "G1hSy0epiImC"
      },
      "execution_count": null,
      "outputs": []
    }
  ]
}